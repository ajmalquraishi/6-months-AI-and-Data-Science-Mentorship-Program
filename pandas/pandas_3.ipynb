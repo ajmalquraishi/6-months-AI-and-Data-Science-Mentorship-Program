{
 "cells": [
  {
   "cell_type": "markdown",
   "metadata": {},
   "source": [
    "## How to Import dataset in python by using pandas\n",
    "Developed by Ajmal Quraishi\\\n",
    "Date: 14-oct-2023\\\n",
    "E-mail: ajmalquraishi98@gmail.com\n"
   ]
  }
 ],
 "metadata": {
  "language_info": {
   "name": "python"
  }
 },
 "nbformat": 4,
 "nbformat_minor": 2
}
