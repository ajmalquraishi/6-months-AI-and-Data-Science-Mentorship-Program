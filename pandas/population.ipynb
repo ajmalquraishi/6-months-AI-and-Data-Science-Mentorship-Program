{
 "cells": [
  {
   "cell_type": "code",
   "execution_count": 18,
   "metadata": {},
   "outputs": [
    {
     "name": "stdout",
     "output_type": "stream",
     "text": [
      "The largest area is: 0.0 sq.km\n"
     ]
    }
   ],
   "source": [
    "import pandas as pd\n",
    "\n",
    "data = pd.read_csv('./data/sub-division_population_of_pakistan.csv')\n",
    "largest_area_row = data.loc[data['AREA (sq.km)'].idxmin()]\n",
    "largest_area = largest_area_row['AREA (sq.km)']\n",
    "\n",
    "print(\"The largest area is:\", largest_area, \"sq.km\")"
   ]
  },
  {
   "cell_type": "code",
   "execution_count": 25,
   "metadata": {},
   "outputs": [
    {
     "name": "stdout",
     "output_type": "stream",
     "text": [
      "The largest area is: KPK/FATA sq.km\n"
     ]
    }
   ],
   "source": [
    "import pandas as pd\n",
    "\n",
    "data = pd.read_csv('./data/sub-division_population_of_pakistan.csv')\n",
    "\n",
    "largest_area = data['PROVINCE'].value_counts().idxmin()\n",
    "\n",
    "print(\"The largest area is:\", largest_area, \"sq.km\")"
   ]
  }
 ],
 "metadata": {
  "kernelspec": {
   "display_name": "base",
   "language": "python",
   "name": "python3"
  },
  "language_info": {
   "codemirror_mode": {
    "name": "ipython",
    "version": 3
   },
   "file_extension": ".py",
   "mimetype": "text/x-python",
   "name": "python",
   "nbconvert_exporter": "python",
   "pygments_lexer": "ipython3",
   "version": "3.11.4"
  }
 },
 "nbformat": 4,
 "nbformat_minor": 2
}
